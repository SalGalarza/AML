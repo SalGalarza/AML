{
 "cells": [
  {
   "cell_type": "markdown",
   "metadata": {},
   "source": [
    "### CS5785 Homework 3 - Part II\n",
    "Salvador Galarza"
   ]
  },
  {
   "cell_type": "code",
   "execution_count": 206,
   "metadata": {},
   "outputs": [],
   "source": [
    "import numpy as np\n",
    "import pandas as pd\n",
    "from sklearn.cluster import KMeans"
   ]
  },
  {
   "cell_type": "code",
   "execution_count": 192,
   "metadata": {},
   "outputs": [
    {
     "data": {
      "text/plain": [
       "array([[-0.2521619, -0.2521619,  9.36371  , ..., -0.2521619, -0.2521619,\n",
       "        -0.2521619],\n",
       "       [-0.2875293, -0.2875293,  8.229864 , ..., -0.2875293, -0.2875293,\n",
       "        -0.2875293],\n",
       "       [-0.3634041, -0.3634041,  9.252468 , ..., -0.3634041, -0.3634041,\n",
       "        -0.3634041],\n",
       "       ...,\n",
       "       [10.04846  , -0.7713402,  9.132197 , ..., -0.7713402, -0.7713402,\n",
       "        -0.7713402],\n",
       "       [11.00702  , -0.8423803, 10.38288  , ..., -0.8423803, -0.8423803,\n",
       "        -0.8423803],\n",
       "       [ 9.710337 , -0.7527946,  9.556191 , ..., -0.7527946, -0.7527946,\n",
       "        -0.7527946]])"
      ]
     },
     "execution_count": 192,
     "metadata": {},
     "output_type": "execute_result"
    }
   ],
   "source": [
    "X = np.load(\"science2k-doc-word.npy\")\n",
    "X"
   ]
  },
  {
   "cell_type": "code",
   "execution_count": 193,
   "metadata": {},
   "outputs": [],
   "source": [
    "k_vals = list(range(1,21))\n",
    "for k in k_vals:\n",
    "    kmeans = KMeans(n_clusters=k, random_state=0).fit(X)\n",
    "#     print(kmeans.score(X))"
   ]
  },
  {
   "cell_type": "code",
   "execution_count": 194,
   "metadata": {},
   "outputs": [
    {
     "data": {
      "text/plain": [
       "array([0, 0, 0, ..., 2, 3, 3], dtype=int32)"
      ]
     },
     "execution_count": 194,
     "metadata": {},
     "output_type": "execute_result"
    }
   ],
   "source": [
    "k = 7\n",
    "kmeans = KMeans(n_clusters=k, random_state=0).fit(X)\n",
    "kmeans.labels_"
   ]
  },
  {
   "cell_type": "code",
   "execution_count": 195,
   "metadata": {},
   "outputs": [],
   "source": [
    "# d0 = kmeans.transform(X)[:,0]\n",
    "# len(d0)"
   ]
  },
  {
   "cell_type": "code",
   "execution_count": 196,
   "metadata": {},
   "outputs": [
    {
     "data": {
      "text/plain": [
       "[array([ 98.28239856,  98.48908159, 102.06165291, 102.89865725,\n",
       "        102.89865725, 102.89865725, 103.27514948, 103.98961673,\n",
       "        104.2387512 , 104.79088186]),\n",
       " array([119.76983241, 120.02401255, 121.047961  , 121.35566407,\n",
       "        122.14896801, 122.71754848, 123.60065629, 123.70363829,\n",
       "        124.01889433, 124.33835193]),\n",
       " array([118.11861119, 119.53765681, 121.97434818, 122.2249341 ,\n",
       "        122.71098243, 122.71907588, 122.983185  , 123.15302488,\n",
       "        123.23263684, 123.65999715]),\n",
       " array([119.63150287, 119.90904439, 120.51801702, 120.69368682,\n",
       "        120.74191267, 121.41409355, 121.7291652 , 122.02048981,\n",
       "        122.44800836, 122.74516767]),\n",
       " array([105.9595827 , 106.16025321, 106.83800393, 111.05066964,\n",
       "        113.19061361, 113.74088491, 113.93139329, 114.07321867,\n",
       "        114.20387919, 114.76030901]),\n",
       " array([113.28674827, 113.5303577 , 136.65931416, 139.74510389,\n",
       "        140.21732861, 141.34601588, 141.53304501, 141.74595632,\n",
       "        142.14510135, 143.69904035]),\n",
       " array([137.05838739, 138.36404059, 142.59547138, 145.7535286 ,\n",
       "        147.08512265, 147.76614034, 148.29792655, 149.11604941,\n",
       "        149.77723582, 150.18392736])]"
      ]
     },
     "execution_count": 196,
     "metadata": {},
     "output_type": "execute_result"
    }
   ],
   "source": [
    "n = 10\n",
    "k_cluster_n = []\n",
    "d = []\n",
    "for cluster in range(k):\n",
    "    d.append(kmeans.transform(X)[:,cluster])\n",
    "    k_cluster_n.append(np.sort(kmeans.transform(X)[:,cluster])[:n])\n",
    "k_cluster_n"
   ]
  },
  {
   "cell_type": "code",
   "execution_count": 197,
   "metadata": {},
   "outputs": [],
   "source": [
    "data = pd.read_csv('science2k-titles.txt', header=None)\n",
    "data.columns = [\"title\"]"
   ]
  },
  {
   "cell_type": "code",
   "execution_count": 198,
   "metadata": {},
   "outputs": [
    {
     "name": "stdout",
     "output_type": "stream",
     "text": [
      "[519, 574, 499, 122, 123, 124, 90, 0, 453, 431]\n"
     ]
    }
   ],
   "source": [
    "w = list(d[0])\n",
    "print(sorted(range(len(w)), key=lambda k: w[k])[:10])"
   ]
  },
  {
   "cell_type": "code",
   "execution_count": 199,
   "metadata": {},
   "outputs": [
    {
     "name": "stdout",
     "output_type": "stream",
     "text": [
      "Cluster Group 0\n",
      "Algorithmic Gladiators Vie for Digital Glory\n",
      "Reopening the Darkest Chapter in German Science\n",
      "National Academy of Sciences Elects New Members\n",
      "Corrections and Clarifications: A Short Fe-Fe Distance in Peroxodiferric Ferritin: Control of Fe Substrate versus Cofactor Decay?\n",
      "Corrections and Clarifications: Charon's First Detailed Spectra Hold Many Surprises\n",
      "Corrections and Clarifications: Unearthing Monuments of the Yarmukians\n",
      "Heretical Idea Faces Its Sternest Test\n",
      "Archaeology in the Holy Land\n",
      "Information Technology Takes a Different Tack\n",
      "Movement Patterns in Spoken Language\n",
      "\n",
      "\n",
      "Cluster Group 1\n",
      "Population Dynamical Consequences of Climate Change for a Small Temperate Songbird\n",
      "The Formation of Chondrules at High Gas Pressures in the Solar Nebula\n",
      "Algorithmic Gladiators Vie for Digital Glory\n",
      "Reopening the Darkest Chapter in German Science\n",
      "Subducted Seamount Imaged in the Rupture Zone of the 1946 Nankaido Earthquake\n",
      "Tectonic Implications of U-Pb Zircon Ages of the Himalayan Orogenic Belt in Nepal\n",
      "Nitric Acid Trihydrate (NAT) in Polar Stratospheric Clouds\n",
      "Homogenization of Fish Faunas across the United States\n",
      "Heretical Idea Faces Its Sternest Test\n",
      "Corrections and Clarifications: A Short Fe-Fe Distance in Peroxodiferric Ferritin: Control of Fe Substrate versus Cofactor Decay?\n",
      "\n",
      "\n",
      "Cluster Group 2\n",
      "Requirement of NAD and SIR2 for Life-Span Extension by Calorie Restriction in Saccharomyces Cerevisiae\n",
      "Suppression of Mutations in Mitochondrial DNA by tRNAs Imported from the Cytoplasm\n",
      "Algorithmic Gladiators Vie for Digital Glory\n",
      "Thermal, Catalytic, Regiospecific Functionalization of Alkanes\n",
      "Reopening the Darkest Chapter in German Science\n",
      "Similar Requirements of a Plant Symbiont and a Mammalian Pathogen for Prolonged Intracellular Survival\n",
      "Mothers Setting Boundaries\n",
      "Turning up the Heat on Histoplasma capsulatum\n",
      "Distinct Classes of Yeast Promoters Revealed by Differential TAF Recruitment\n",
      "An Arresting Start for MAPK\n",
      "\n",
      "\n",
      "Cluster Group 3\n",
      "The Formation of Chondrules at High Gas Pressures in the Solar Nebula\n",
      "Algorithmic Gladiators Vie for Digital Glory\n",
      "Thermal, Catalytic, Regiospecific Functionalization of Alkanes\n",
      "Reopening the Darkest Chapter in German Science\n",
      "Information Storage and Retrieval through Quantum Phase\n",
      "Heretical Idea Faces Its Sternest Test\n",
      "Quantum Dots as Tunable Kondo Impurities\n",
      "Synthesis and Characterization of Helical Multi-Shell Gold Nanowires\n",
      "A Monoclinic Post-Stishovite Polymorph of Silica in the Shergotty Meteorite\n",
      "Ambipolar Pentacene Field-Effect Transistors and Inverters\n",
      "\n",
      "\n",
      "Cluster Group 4\n",
      "Information Technology Takes a Different Tack\n",
      "Algorithmic Gladiators Vie for Digital Glory\n",
      "Reopening the Darkest Chapter in German Science\n",
      "Archaeology in the Holy Land\n",
      "Science Survives in Breakthrough States\n",
      "National Academy of Sciences Elects New Members\n",
      "Baedeker's Guide, or Just Plain 'Trouble'?\n",
      "Heretical Idea Faces Its Sternest Test\n",
      "Vaccine Studies Stymied by Shortage of Animals\n",
      "Divining Diet and Disease from DNA\n",
      "\n",
      "\n",
      "Cluster Group 5\n",
      "Asilomar Revisited\n",
      "Life on Snowball Earth\n",
      "Reopening the Darkest Chapter in German Science\n",
      "Archaeology in the Holy Land\n",
      "Information Technology Takes a Different Tack\n",
      "Temperature Oscillations in the North Atlantic\n",
      "Baedeker's Guide, or Just Plain 'Trouble'?\n",
      "Algorithmic Gladiators Vie for Digital Glory\n",
      "Untapped Source of Diplomats\n",
      "Heretical Idea Faces Its Sternest Test\n",
      "\n",
      "\n",
      "Cluster Group 6\n",
      "Structure of Yeast Poly(A) Polymerase Alone and in Complex with 3'-dATP\n",
      "Ubiquitination: More Than Two to Tango\n",
      "On the Ancestry of Barrels\n",
      "Structure of Murine CTLA-4 and Its Role in Modulating T Cell Responsiveness\n",
      "Thermal, Catalytic, Regiospecific Functionalization of Alkanes\n",
      "The Ribosome Is a Ribozyme\n",
      "A Stable Bicyclic Compound with Two Si=Si Double Bonds\n",
      "SRP-Where the RNA and Membrane Worlds Meet\n",
      "ER-to-Golgi Traffic: This Bud's for You\n",
      "Harnessing the Power of Diatomics\n",
      "\n",
      "\n"
     ]
    }
   ],
   "source": [
    "for i in range(len(d)):\n",
    "    print(\"Cluster Group {}\".format(i))\n",
    "    w = list(d[i])\n",
    "    ind = sorted(range(len(w)), key=lambda k: w[k])[:10]\n",
    "    for j in ind:\n",
    "        print(data['title'][j])\n",
    "    print(\"\\n\")"
   ]
  },
  {
   "cell_type": "markdown",
   "metadata": {},
   "source": [
    "##### Comment on these results. What has the algorithm captured? How might such an algorithm be useful?"
   ]
  },
  {
   "cell_type": "markdown",
   "metadata": {},
   "source": [
    "This algorithm captured the top 10 closest article titles to each cluster center. This may be useful by allowing us to identify the types of articles per cluster and classifying them. For example we can use NLP to classify these articles based on the title. "
   ]
  },
  {
   "cell_type": "markdown",
   "metadata": {},
   "source": [
    "#### Part b"
   ]
  },
  {
   "cell_type": "code",
   "execution_count": 200,
   "metadata": {},
   "outputs": [
    {
     "data": {
      "text/plain": [
       "array([[-6.755691  , -6.755691  , -6.755691  , ...,  4.064107  ,\n",
       "         5.093713  ,  3.707441  ],\n",
       "       [-4.028205  , -4.028205  , -4.028205  , ..., -4.028205  ,\n",
       "        -4.028205  , -4.028205  ],\n",
       "       [-0.03370464, -1.132184  , -0.03370464, ...,  0.2539608 ,\n",
       "         1.57568   ,  0.6594092 ],\n",
       "       ...,\n",
       "       [-0.1301101 , -0.1301101 , -0.1301101 , ..., -0.1301101 ,\n",
       "        -0.1301101 , -0.1301101 ],\n",
       "       [-0.05128021, -0.05128021, -0.05128021, ..., -0.05128021,\n",
       "        -0.05128021, -0.05128021],\n",
       "       [-0.06441435, -0.06441435, -0.06441435, ..., -0.06441435,\n",
       "        -0.06441435, -0.06441435]])"
      ]
     },
     "execution_count": 200,
     "metadata": {},
     "output_type": "execute_result"
    }
   ],
   "source": [
    "Y = np.load(\"science2k-word-doc.npy\")\n",
    "Y"
   ]
  },
  {
   "cell_type": "code",
   "execution_count": 201,
   "metadata": {},
   "outputs": [],
   "source": [
    "k_vals = list(range(1,21))\n",
    "for k in k_vals:\n",
    "    kmeans = KMeans(n_clusters=k, random_state=0).fit(Y)"
   ]
  },
  {
   "cell_type": "code",
   "execution_count": 202,
   "metadata": {},
   "outputs": [
    {
     "data": {
      "text/plain": [
       "array([5, 1, 2, ..., 2, 2, 2], dtype=int32)"
      ]
     },
     "execution_count": 202,
     "metadata": {},
     "output_type": "execute_result"
    }
   ],
   "source": [
    "k = 7\n",
    "kmeans = KMeans(n_clusters=k, random_state=0).fit(Y)\n",
    "kmeans.labels_"
   ]
  },
  {
   "cell_type": "code",
   "execution_count": 203,
   "metadata": {},
   "outputs": [
    {
     "data": {
      "text/plain": [
       "[array([25.51990803, 25.74211179, 26.07022686, 26.13532673, 26.19134622,\n",
       "        26.19775271, 26.20889089, 26.21847407, 26.23729024, 26.24180221]),\n",
       " array([39.47417635, 41.02108238, 41.34121343, 42.28546013, 42.31599052,\n",
       "        42.36886816, 42.40678884, 42.43611206, 42.46772798, 42.47251495]),\n",
       " array([13.73764059, 13.79820661, 13.81601449, 13.85739855, 13.86997017,\n",
       "        13.873625  , 13.89072011, 13.89625417, 13.90754595, 13.91609744]),\n",
       " array([29.99051097, 30.00189648, 30.09641791, 30.10177953, 30.16322754,\n",
       "        30.17150709, 30.17885066, 30.18930876, 30.18996446, 30.19849696]),\n",
       " array([31.94773401, 34.46855177, 34.61054804, 34.61588261, 34.62000587,\n",
       "        34.67053677, 34.6789498 , 34.70071327, 34.76572307, 34.82084916]),\n",
       " array([42.50891698, 42.90619149, 44.01121529, 45.2609505 , 50.81398743,\n",
       "        55.09770444, 55.15616028, 55.27193499, 55.29084653, 55.29995086]),\n",
       " array([  0.        , 118.61620019, 119.40903601, 119.43605397,\n",
       "        119.74810428, 120.1918912 , 120.40762687, 120.42867952,\n",
       "        120.45679943, 120.48205551])]"
      ]
     },
     "execution_count": 203,
     "metadata": {},
     "output_type": "execute_result"
    }
   ],
   "source": [
    "n = 10\n",
    "k_cluster_n = []\n",
    "d = []\n",
    "for cluster in range(k):\n",
    "    d.append(kmeans.transform(Y)[:,cluster])\n",
    "    k_cluster_n.append(np.sort(kmeans.transform(Y)[:,cluster])[:n])\n",
    "k_cluster_n"
   ]
  },
  {
   "cell_type": "code",
   "execution_count": 204,
   "metadata": {},
   "outputs": [],
   "source": [
    "data = pd.read_csv('science2k-vocab.txt', header=None)\n",
    "data.columns = [\"title\"]"
   ]
  },
  {
   "cell_type": "code",
   "execution_count": 205,
   "metadata": {},
   "outputs": [
    {
     "name": "stdout",
     "output_type": "stream",
     "text": [
      "Cluster Group 0\n",
      "lcts\n",
      "neas\n",
      "proteorhodopsin\n",
      "ag7\n",
      "dnag\n",
      "rory\n",
      "lg268\n",
      "pax8\n",
      "aptamers\n",
      "trxr\n",
      "\n",
      "\n",
      "Cluster Group 1\n",
      "end\n",
      "org\n",
      "sciencemag\n",
      "mlin\n",
      "noxa\n",
      "kif17\n",
      "rory\n",
      "ifnar1\n",
      "calcyon\n",
      "mcry\n",
      "\n",
      "\n",
      "Cluster Group 2\n",
      "aptamers\n",
      "dnag\n",
      "rory\n",
      "ag7\n",
      "nompc\n",
      "trxr\n",
      "doxy\n",
      "lg268\n",
      "proteorhodopsin\n",
      "lcts\n",
      "\n",
      "\n",
      "Cluster Group 3\n",
      "lcts\n",
      "neas\n",
      "autophagy\n",
      "doxy\n",
      "aptamers\n",
      "dnag\n",
      "trxr\n",
      "pax8\n",
      "ag7\n",
      "proteorhodopsin\n",
      "\n",
      "\n",
      "Cluster Group 4\n",
      "end\n",
      "ag7\n",
      "nompc\n",
      "trxr\n",
      "neas\n",
      "dnag\n",
      "proteorhodopsin\n",
      "aptamers\n",
      "lcts\n",
      "org\n",
      "\n",
      "\n",
      "Cluster Group 5\n",
      "sciencemag\n",
      "org\n",
      "end\n",
      "vol\n",
      "science\n",
      "dnag\n",
      "ag7\n",
      "nompc\n",
      "mcry\n",
      "proteorhodopsin\n",
      "\n",
      "\n",
      "Cluster Group 6\n",
      "map\n",
      "bacs\n",
      "end\n",
      "contigs\n",
      "bac\n",
      "mapped\n",
      "polytene\n",
      "shotgun\n",
      "org\n",
      "sciencemag\n",
      "\n",
      "\n"
     ]
    }
   ],
   "source": [
    "for i in range(len(d)):\n",
    "    print(\"Cluster Group {}\".format(i))\n",
    "    w = list(d[i])\n",
    "    ind = sorted(range(len(w)), key=lambda k: w[k])[:10]\n",
    "    for j in ind:\n",
    "        print(data['title'][j])\n",
    "    print(\"\\n\")"
   ]
  },
  {
   "cell_type": "markdown",
   "metadata": {},
   "source": [
    "##### Comment on these results. How might such an algorithm be useful? What is different about clustering terms from clustering documents?"
   ]
  },
  {
   "cell_type": "markdown",
   "metadata": {},
   "source": [
    "This algorithm captured the top 10 closest article terms to each cluster center. This may be useful by allowing us to use these words as key features to classify articles in a future model, think bag of words. One thing that stands out is the repeat use of words within these clusters. There is an overlap between some of the words which makes this clustering less distinct then with the documents."
   ]
  },
  {
   "cell_type": "code",
   "execution_count": null,
   "metadata": {},
   "outputs": [],
   "source": []
  },
  {
   "cell_type": "code",
   "execution_count": null,
   "metadata": {},
   "outputs": [],
   "source": []
  },
  {
   "cell_type": "code",
   "execution_count": null,
   "metadata": {},
   "outputs": [],
   "source": []
  },
  {
   "cell_type": "code",
   "execution_count": null,
   "metadata": {},
   "outputs": [],
   "source": [
    "#Manual way of finding indices"
   ]
  },
  {
   "cell_type": "code",
   "execution_count": 177,
   "metadata": {},
   "outputs": [
    {
     "name": "stdout",
     "output_type": "stream",
     "text": [
      "[835, 1131, 1239, 983, 1298, 811, 812, 760, 899, 1010, 1281, 519, 90, 302, 574, 73, 797, 984, 159, 587, 519, 574, 453, 204, 0, 777, 1214, 790, 431, 1, 519, 574, 499, 122, 122, 122, 90, 0, 977, 977, 968, 997, 541, 367, 656, 519, 302, 1239, 1314, 1214, 983, 902, 302, 888, 760, 833, 1010, 812, 997, 856, 519, 574, 431, 302, 489, 122, 122, 122, 777, 769, 139, 1355, 1359, 1299, 380, 1326, 780, 862, 765, 736, 453, 519, 574, 0, 499, 1124, 90, 149, 1, 777, 1281, 139, 519, 574, 724, 442, 90, 1283, 177, 489]\n"
     ]
    }
   ],
   "source": [
    "# indices = []\n",
    "# for top_10_list in range(len(k_cluster_n)):\n",
    "#     for dist in k_cluster_n[top_10_list]:\n",
    "#         ind = np.where(d[top_10_list] == dist)\n",
    "#         indices.append(ind[0][0])\n",
    "# print(indices)"
   ]
  },
  {
   "cell_type": "code",
   "execution_count": 122,
   "metadata": {},
   "outputs": [
    {
     "data": {
      "text/plain": [
       "1373"
      ]
     },
     "execution_count": 122,
     "metadata": {},
     "output_type": "execute_result"
    }
   ],
   "source": [
    "# data = pd.read_csv('science2k-titles.txt', header=None)\n",
    "# data.columns = [\"title\"]"
   ]
  },
  {
   "cell_type": "code",
   "execution_count": 178,
   "metadata": {},
   "outputs": [
    {
     "name": "stdout",
     "output_type": "stream",
     "text": [
      "Cluster Group 0\n",
      "N-WASP Regulation: The Sting in the Tail\n",
      "An Arresting Start for MAPK\n",
      "Ubiquitination: More Than Two to Tango\n",
      "Actin' up with Rac1\n",
      "Bacterial Spelunkers\n",
      "Replication Meets Cohesion\n",
      "ER-to-Golgi Traffic: This Bud's for You\n",
      "How to Get along: Friendly Microbes in a Hostile World\n",
      "New Insights into an Old Modification\n",
      "\n",
      "\n",
      "Cluster Group 1\n",
      "The Formation of Chondrules at High Gas Pressures in the Solar Nebula\n",
      "Algorithmic Gladiators Vie for Digital Glory\n",
      "Heretical Idea Faces Its Sternest Test\n",
      "Thermal, Catalytic, Regiospecific Functionalization of Alkanes\n",
      "Reopening the Darkest Chapter in German Science\n",
      "Information Storage and Retrieval through Quantum Phase\n",
      "Synthesis and Characterization of Helical Multi-Shell Gold Nanowires\n",
      "Quantum Dots as Tunable Kondo Impurities\n",
      "Ambipolar Pentacene Field-Effect Transistors and Inverters\n",
      "A Monoclinic Post-Stishovite Polymorph of Silica in the Shergotty Meteorite\n",
      "\n",
      "\n",
      "Cluster Group 2\n",
      "Algorithmic Gladiators Vie for Digital Glory\n",
      "Reopening the Darkest Chapter in German Science\n",
      "Information Technology Takes a Different Tack\n",
      "Stem Cells Branch Out\n",
      "Archaeology in the Holy Land\n",
      "Divining Diet and Disease from DNA\n",
      "Turning up the Heat on Histoplasma capsulatum\n",
      "The Violence of the Lambs\n",
      "Movement Patterns in Spoken Language\n",
      "Baedeker's Guide, or Just Plain 'Trouble'?\n",
      "\n",
      "\n",
      "Cluster Group 3\n",
      "Algorithmic Gladiators Vie for Digital Glory\n",
      "Reopening the Darkest Chapter in German Science\n",
      "National Academy of Sciences Elects New Members\n",
      "Corrections and Clarifications: A Short Fe-Fe Distance in Peroxodiferric Ferritin: Control of Fe Substrate versus Cofactor Decay?\n",
      "Corrections and Clarifications: A Short Fe-Fe Distance in Peroxodiferric Ferritin: Control of Fe Substrate versus Cofactor Decay?\n",
      "Corrections and Clarifications: A Short Fe-Fe Distance in Peroxodiferric Ferritin: Control of Fe Substrate versus Cofactor Decay?\n",
      "Heretical Idea Faces Its Sternest Test\n",
      "Archaeology in the Holy Land\n",
      "Corrections and Clarifications: One Hundred Years of Quantum Physics\n",
      "Corrections and Clarifications: One Hundred Years of Quantum Physics\n",
      "\n",
      "\n",
      "Cluster Group 4\n",
      "Suppression of Mutations in Mitochondrial DNA by tRNAs Imported from the Cytoplasm\n",
      "Requirement of NAD and SIR2 for Life-Span Extension by Calorie Restriction in Saccharomyces Cerevisiae\n",
      "Distinct Classes of Yeast Promoters Revealed by Differential TAF Recruitment\n",
      "Similar Requirements of a Plant Symbiont and a Mammalian Pathogen for Prolonged Intracellular Survival\n",
      "Mothers Setting Boundaries\n",
      "Algorithmic Gladiators Vie for Digital Glory\n",
      "Thermal, Catalytic, Regiospecific Functionalization of Alkanes\n",
      "An Arresting Start for MAPK\n",
      "Efficient Initiation of HCV RNA Replication in Cell Culture\n",
      "Turning up the Heat on Histoplasma capsulatum\n",
      "\n",
      "\n",
      "Cluster Group 5\n",
      "Ubiquitination: More Than Two to Tango\n",
      "On the Ancestry of Barrels\n",
      "Thermal, Catalytic, Regiospecific Functionalization of Alkanes\n",
      "Structure of Yeast Poly(A) Polymerase Alone and in Complex with 3'-dATP\n",
      "ER-to-Golgi Traffic: This Bud's for You\n",
      "The Ribosome Is a Ribozyme\n",
      "New Insights into an Old Modification\n",
      "Replication Meets Cohesion\n",
      "Requirement of NAD and SIR2 for Life-Span Extension by Calorie Restriction in Saccharomyces Cerevisiae\n",
      "L1 Retrotransposons Shape the Mammalian Genome\n",
      "\n",
      "\n",
      "Cluster Group 6\n",
      "Algorithmic Gladiators Vie for Digital Glory\n",
      "Reopening the Darkest Chapter in German Science\n",
      "Movement Patterns in Spoken Language\n",
      "Thermal, Catalytic, Regiospecific Functionalization of Alkanes\n",
      "Homogenization of Fish Faunas across the United States\n",
      "Corrections and Clarifications: A Short Fe-Fe Distance in Peroxodiferric Ferritin: Control of Fe Substrate versus Cofactor Decay?\n",
      "Corrections and Clarifications: A Short Fe-Fe Distance in Peroxodiferric Ferritin: Control of Fe Substrate versus Cofactor Decay?\n",
      "Corrections and Clarifications: A Short Fe-Fe Distance in Peroxodiferric Ferritin: Control of Fe Substrate versus Cofactor Decay?\n",
      "Divining Diet and Disease from DNA\n",
      "Evidence for Ecological Causation of Sexual Dimorphism in a Hummingbird\n",
      "\n",
      "\n",
      "Cluster Group 7\n",
      "Population Dynamical Consequences of Climate Change for a Small Temperate Songbird\n",
      "The Amazon Reveals Its Secrets: Partly\n",
      "Reconstruction of the Amazon Basin Effective Moisture Availability over the past 14,000 Years\n",
      "Glacial Climate Instability\n",
      "Frozen Methane Escapes from the Sea Floor\n",
      "The Causes of 20th Century Warming\n",
      "Temperature Oscillations in the North Atlantic\n",
      "Isotopic Evidence for Variations in the Marine Calcium Cycle over the Cenozoic\n",
      "Greenland Ice Sheet: High-Elevation Balance and Peripheral Thinning\n",
      "Lessons for a New Millennium\n",
      "\n",
      "\n",
      "Cluster Group 8\n",
      "Information Technology Takes a Different Tack\n",
      "Algorithmic Gladiators Vie for Digital Glory\n",
      "Reopening the Darkest Chapter in German Science\n",
      "Archaeology in the Holy Land\n",
      "National Academy of Sciences Elects New Members\n",
      "Science Survives in Breakthrough States\n",
      "Heretical Idea Faces Its Sternest Test\n",
      "Vaccine Studies Stymied by Shortage of Animals\n",
      "Baedeker's Guide, or Just Plain 'Trouble'?\n",
      "Divining Diet and Disease from DNA\n",
      "\n",
      "\n"
     ]
    }
   ],
   "source": [
    "# ll = [a * 10 for a in range(1,k)]\n",
    "# for l in range(len(ll)):\n",
    "#     print(\"Cluster Group {}\".format(l))\n",
    "#     if ll[l] == 10:\n",
    "#         j = 1\n",
    "#     else:\n",
    "#         j = ll[l-1]\n",
    "\n",
    "#     for i in indices[j:ll[l]]:\n",
    "#         print(data['title'][i])\n",
    "#     print(\"\\n\")"
   ]
  },
  {
   "cell_type": "code",
   "execution_count": null,
   "metadata": {},
   "outputs": [],
   "source": []
  }
 ],
 "metadata": {
  "kernelspec": {
   "display_name": "Python 3",
   "language": "python",
   "name": "python3"
  },
  "language_info": {
   "codemirror_mode": {
    "name": "ipython",
    "version": 3
   },
   "file_extension": ".py",
   "mimetype": "text/x-python",
   "name": "python",
   "nbconvert_exporter": "python",
   "pygments_lexer": "ipython3",
   "version": "3.7.3"
  }
 },
 "nbformat": 4,
 "nbformat_minor": 4
}
