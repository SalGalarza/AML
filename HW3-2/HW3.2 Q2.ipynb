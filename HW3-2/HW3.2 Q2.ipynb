{
 "cells": [
  {
   "cell_type": "code",
   "execution_count": 67,
   "id": "3b0df81d",
   "metadata": {},
   "outputs": [],
   "source": [
    "import pandas as pd\n",
    "import numpy as np\n",
    "from matplotlib import pyplot as plt\n",
    "import random\n",
    "import scipy.stats\n",
    "import math"
   ]
  },
  {
   "cell_type": "code",
   "execution_count": 68,
   "id": "631acc94",
   "metadata": {},
   "outputs": [
    {
     "data": {
      "text/html": [
       "<div>\n",
       "<style scoped>\n",
       "    .dataframe tbody tr th:only-of-type {\n",
       "        vertical-align: middle;\n",
       "    }\n",
       "\n",
       "    .dataframe tbody tr th {\n",
       "        vertical-align: top;\n",
       "    }\n",
       "\n",
       "    .dataframe thead th {\n",
       "        text-align: right;\n",
       "    }\n",
       "</style>\n",
       "<table border=\"1\" class=\"dataframe\">\n",
       "  <thead>\n",
       "    <tr style=\"text-align: right;\">\n",
       "      <th></th>\n",
       "      <th>eruption</th>\n",
       "      <th>waiting</th>\n",
       "    </tr>\n",
       "  </thead>\n",
       "  <tbody>\n",
       "    <tr>\n",
       "      <th>0</th>\n",
       "      <td>3.600</td>\n",
       "      <td>79</td>\n",
       "    </tr>\n",
       "    <tr>\n",
       "      <th>1</th>\n",
       "      <td>1.800</td>\n",
       "      <td>54</td>\n",
       "    </tr>\n",
       "    <tr>\n",
       "      <th>2</th>\n",
       "      <td>3.333</td>\n",
       "      <td>74</td>\n",
       "    </tr>\n",
       "    <tr>\n",
       "      <th>3</th>\n",
       "      <td>2.283</td>\n",
       "      <td>62</td>\n",
       "    </tr>\n",
       "    <tr>\n",
       "      <th>4</th>\n",
       "      <td>4.533</td>\n",
       "      <td>85</td>\n",
       "    </tr>\n",
       "    <tr>\n",
       "      <th>...</th>\n",
       "      <td>...</td>\n",
       "      <td>...</td>\n",
       "    </tr>\n",
       "    <tr>\n",
       "      <th>267</th>\n",
       "      <td>4.117</td>\n",
       "      <td>81</td>\n",
       "    </tr>\n",
       "    <tr>\n",
       "      <th>268</th>\n",
       "      <td>2.150</td>\n",
       "      <td>46</td>\n",
       "    </tr>\n",
       "    <tr>\n",
       "      <th>269</th>\n",
       "      <td>4.417</td>\n",
       "      <td>90</td>\n",
       "    </tr>\n",
       "    <tr>\n",
       "      <th>270</th>\n",
       "      <td>1.817</td>\n",
       "      <td>46</td>\n",
       "    </tr>\n",
       "    <tr>\n",
       "      <th>271</th>\n",
       "      <td>4.467</td>\n",
       "      <td>74</td>\n",
       "    </tr>\n",
       "  </tbody>\n",
       "</table>\n",
       "<p>272 rows × 2 columns</p>\n",
       "</div>"
      ],
      "text/plain": [
       "     eruption  waiting\n",
       "0       3.600       79\n",
       "1       1.800       54\n",
       "2       3.333       74\n",
       "3       2.283       62\n",
       "4       4.533       85\n",
       "..        ...      ...\n",
       "267     4.117       81\n",
       "268     2.150       46\n",
       "269     4.417       90\n",
       "270     1.817       46\n",
       "271     4.467       74\n",
       "\n",
       "[272 rows x 2 columns]"
      ]
     },
     "execution_count": 68,
     "metadata": {},
     "output_type": "execute_result"
    }
   ],
   "source": [
    "df = pd.read_table(\"geyser.txt\", sep=\"\\s+\", usecols = [\"eruption\", \"waiting\"])\n",
    "df"
   ]
  },
  {
   "cell_type": "code",
   "execution_count": 69,
   "id": "9d7c2814",
   "metadata": {},
   "outputs": [],
   "source": [
    "np_data = df.to_numpy() #convert df to np array"
   ]
  },
  {
   "cell_type": "code",
   "execution_count": 70,
   "id": "0758f72e",
   "metadata": {},
   "outputs": [
    {
     "data": {
      "text/plain": [
       "<matplotlib.collections.PathCollection at 0x7faf100722e0>"
      ]
     },
     "execution_count": 70,
     "metadata": {},
     "output_type": "execute_result"
    },
    {
     "data": {
      "image/png": "[encoded data removed]",
      "text/plain": [
       "<Figure size 432x288 with 1 Axes>"
      ]
     },
     "metadata": {
      "needs_background": "light"
     },
     "output_type": "display_data"
    }
   ],
   "source": [
    "eruption = [np_data[i][0] for i in range(len(np_data))] #np array of eruption times\n",
    "waiting = [np_data[i][1] for i in range(len(np_data))] #np array of waiting times\n",
    "plt.scatter(eruption, waiting)"
   ]
  },
  {
   "cell_type": "code",
   "execution_count": 75,
   "id": "8b40d70f",
   "metadata": {},
   "outputs": [
    {
     "name": "stdout",
     "output_type": "stream",
     "text": [
      "# Iterations:  13\n"
     ]
    },
    {
     "data": {
      "text/plain": [
       "[<matplotlib.lines.Line2D at 0x7faf84e7f040>]"
      ]
     },
     "execution_count": 75,
     "metadata": {},
     "output_type": "execute_result"
    },
    {
     "data": {
      "image/png": "[encoded data removed]",
      "text/plain": [
       "<Figure size 432x288 with 1 Axes>"
      ]
     },
     "metadata": {
      "needs_background": "light"
     },
     "output_type": "display_data"
    }
   ],
   "source": [
    "#(c) EM Algo\n",
    "\n",
    "def elliptical_gaussian(mus, sigs, vals):\n",
    "    denom = 2*math.pi*sigs[0]*sigs[1]\n",
    "    exp1 = ((vals[0] - mus[0])**2)/(2*sigs[0]**2)\n",
    "    exp2 = (vals[1] - mus[1])**2/(2*sigs[1]**2)\n",
    "    return math.exp(- exp1 - exp2)/denom\n",
    "    \n",
    "#find gamma for a data point i\n",
    "def gamma(mu1, mu2, sig1, sig2, pi, i):\n",
    "    p1 = elliptical_gaussian(mu1, sig1, (eruption[i], waiting[i]))\n",
    "    p2 = elliptical_gaussian(mu2, sig2, (eruption[i], waiting[i]))\n",
    "    return (pi*p1)/(pi*p1 + (1-pi)*p2)\n",
    "\n",
    "def mu1_sum(gammas):\n",
    "    erup = 0\n",
    "    wait = 0\n",
    "    gam = 0\n",
    "    for i in range(len(df)):\n",
    "        erup += gammas[i]*eruption[i]\n",
    "        wait += gammas[i]*waiting[i]\n",
    "        gam += gammas[i]\n",
    "    return (erup/gam, wait/gam)\n",
    "    \n",
    "def mu2_sum(gammas):\n",
    "    erup = 0\n",
    "    wait = 0\n",
    "    gam = 0\n",
    "    for i in range(len(df)):\n",
    "        erup += (1 - gammas[i])*eruption[i]\n",
    "        wait += (1 - gammas[i])*waiting[i]\n",
    "        gam += 1 - gammas[i]\n",
    "    return (erup/gam, wait/gam)\n",
    "\n",
    "def sig1_sum(gammas, mu1, mu2):\n",
    "    erup = 0\n",
    "    wait = 0\n",
    "    gam = 0\n",
    "    for i in range(len(df)):\n",
    "        erup += gammas[i]*(eruption[i] - mu1[0])**2\n",
    "        wait += gammas[i]*(waiting[i] - mu1[1])**2\n",
    "        gam += gammas[i]\n",
    "    erup = math.sqrt(erup/gam)\n",
    "    wait = math.sqrt(wait/gam)\n",
    "    return (erup, wait)\n",
    "\n",
    "def sig2_sum(gammas, mu1, mu2):\n",
    "    erup = 0\n",
    "    wait = 0\n",
    "    gam = 0\n",
    "    for i in range(len(df)):\n",
    "        erup += (1 - gammas[i])*(eruption[i] - mu1[0])**2\n",
    "        wait += (1 - gammas[i])*(waiting[i] - mu1[1])**2\n",
    "        gam += 1 - gammas[i]\n",
    "    erup = math.sqrt(erup/gam)\n",
    "    wait = math.sqrt(wait/gam)\n",
    "    return (erup, wait)\n",
    "\n",
    "def pi_sum(gammas):\n",
    "    pi = 0\n",
    "    for i in range(len(df)):\n",
    "        pi += gammas[i]\n",
    "    return pi/len(gammas)\n",
    "\n",
    "def EM(mu1, mu2, sig1, sig2, pi): #takes in initial values\n",
    "\n",
    "    #EM algo\n",
    "    TC = False #termination criteria\n",
    "    iterations = 0\n",
    "    mu1s = [mu1]\n",
    "    mu2s = [mu2]\n",
    "    pis = [pi]\n",
    "    \n",
    "    \n",
    "\n",
    "    while TC == False:\n",
    "\n",
    "        # E-step:\n",
    "        gammas = []\n",
    "        for j in range(len(df)):\n",
    "            gammas.append(gamma(mu1, mu2, sig1, sig2, pi, j))\n",
    "\n",
    "        # M-step:\n",
    "        mu1 = mu1_sum(gammas)\n",
    "        mu2 = mu2_sum(gammas)\n",
    "        sig1 = sig1_sum(gammas, mu1, mu2)\n",
    "        sig2 = sig2_sum(gammas, mu1, mu2)\n",
    "\n",
    "        last_pi = pi\n",
    "        pi = pi_sum(gammas)\n",
    "\n",
    "        #store info about this iteration:\n",
    "        mu1s.append(mu1)\n",
    "        mu2s.append(mu2)\n",
    "        pis.append(pi)\n",
    "        \n",
    "        \n",
    "\n",
    "\n",
    "        # evaluate termination criteria:\n",
    "        # terminate if we reach the 100th iteration or if pi changes very little\n",
    "        iterations += 1\n",
    "\n",
    "        if iterations == 100:\n",
    "            TC = True\n",
    "\n",
    "        if abs(pi - last_pi) <= 0.001:\n",
    "            TC = True\n",
    "    \n",
    "    return [mu1s, mu2s, pis, iterations]\n",
    "\n",
    "\n",
    "#randomly initialize gaussian features\n",
    "rand_erup1 = random.uniform(np.amin(eruption), np.amax(eruption))\n",
    "rand_erup2 = random.uniform(np.amin(eruption), np.amax(eruption))\n",
    "\n",
    "rand_wait1 = random.uniform(np.amin(waiting), np.amax(waiting))\n",
    "rand_wait2 = random.uniform(np.amin(waiting), np.amax(waiting))\n",
    "    \n",
    "mu1 = (rand_erup1, rand_wait1)\n",
    "mu2 = (rand_erup2, rand_wait2)\n",
    "\n",
    "sig1 = (random.uniform(2, 5), random.uniform(20, 100))\n",
    "sig2 = (random.uniform(2, 5), random.uniform(20, 100))\n",
    "\n",
    "pi = random.random()\n",
    "\n",
    "run = EM(mu1, mu2, sig1, sig2, pi)  \n",
    "mu1s = run[0]\n",
    "mu2s = run[1]\n",
    "pis = run[2]\n",
    "iterations = run[3]\n",
    "\n",
    "\n",
    "#plot mean vectors:\n",
    "\n",
    "it_list = np.array(range(iterations + 1))\n",
    "print(\"# Iterations: \", iterations)\n",
    "\n",
    "mu1s_erup = np.array([mu1s[i][0] for i in range(len(mu1s))])\n",
    "mu1s_wait = np.array([mu1s[i][1] for i in range(len(mu1s))])\n",
    "mu2s_erup = np.array([mu2s[i][0] for i in range(len(mu2s))])\n",
    "mu2s_wait = np.array([mu2s[i][1] for i in range(len(mu2s))])\n",
    "\n",
    "plt.scatter(eruption, waiting, s = 3)\n",
    "plt.scatter(mu1s_erup, mu1s_wait, c = \"r\")\n",
    "plt.plot(mu1s_erup, mu1s_wait, c = \"r\")\n",
    "plt.scatter(mu2s_erup, mu2s_wait, c = \"g\")\n",
    "plt.plot(mu2s_erup, mu2s_wait, c = \"g\")\n",
    "\n"
   ]
  },
  {
   "cell_type": "code",
   "execution_count": 76,
   "id": "704c0ba4",
   "metadata": {},
   "outputs": [
    {
     "name": "stdout",
     "output_type": "stream",
     "text": [
      "Avg #Iterations: 9.16\n"
     ]
    },
    {
     "data": {
      "image/png": "[encoded data removed]",
      "text/plain": [
       "<Figure size 432x288 with 1 Axes>"
      ]
     },
     "metadata": {
      "needs_background": "light"
     },
     "output_type": "display_data"
    }
   ],
   "source": [
    "# run EM algo 50 times with random initial values\n",
    "\n",
    "def fifty():\n",
    "    \n",
    "    x=0\n",
    "    iterations = []\n",
    "    while x < 50:\n",
    "        \n",
    "        #randomly initialize gaussian features\n",
    "        rand_erup1 = random.uniform(np.amin(eruption), np.amax(eruption))\n",
    "        rand_erup2 = random.uniform(np.amin(eruption), np.amax(eruption))\n",
    "\n",
    "        rand_wait1 = random.uniform(np.amin(waiting), np.amax(waiting))\n",
    "        rand_wait2 = random.uniform(np.amin(waiting), np.amax(waiting))\n",
    "\n",
    "        mu1 = (rand_erup1, rand_wait1)\n",
    "        mu2 = (rand_erup2, rand_wait2)\n",
    "\n",
    "        sig1 = (random.uniform(2, 5), random.uniform(20, 100))\n",
    "        sig2 = (random.uniform(2, 5), random.uniform(20, 100))\n",
    "\n",
    "        pi = random.random()\n",
    "        \n",
    "        x += 1\n",
    "        num = EM(mu1, mu2, sig1, sig2, pi)[-1]\n",
    "        iterations.append(num)\n",
    "    \n",
    "    return iterations\n",
    "\n",
    "dist = fifty()\n",
    "bins_list = [i for i in range(40)]\n",
    "plt.hist(dist, bins = bins_list)\n",
    "print(\"Avg #Iterations:\", sum(dist)/50)\n"
   ]
  },
  {
   "cell_type": "code",
   "execution_count": 77,
   "id": "43f5f7f1",
   "metadata": {},
   "outputs": [
    {
     "data": {
      "text/plain": [
       "<matplotlib.collections.PathCollection at 0x7faf6064a250>"
      ]
     },
     "execution_count": 77,
     "metadata": {},
     "output_type": "execute_result"
    },
    {
     "data": {
      "image/png": "[encoded data removed]",
      "text/plain": [
       "<Figure size 432x288 with 1 Axes>"
      ]
     },
     "metadata": {
      "needs_background": "light"
     },
     "output_type": "display_data"
    }
   ],
   "source": [
    "#part d\n",
    "\n",
    "#k-means:\n",
    "\n",
    "def k_means():\n",
    "    \n",
    "    n = len(df)\n",
    "    \n",
    "    #initial cluster assignments (random):\n",
    "    assignment = []\n",
    "    for i in range(n):\n",
    "        if random.random() > 0.5:\n",
    "            assignment.append(1)\n",
    "        else:\n",
    "            assignment.append(0)\n",
    "    \n",
    "    TC = False\n",
    "    iterations = 0\n",
    "    while TC == False:\n",
    "        iterations += 1\n",
    "        \n",
    "        \n",
    "        #compute cluster centers:\n",
    "        c0_erup = 0\n",
    "        c0_wait = 0\n",
    "        n0 = 0\n",
    "        c1_erup = 0\n",
    "        c1_wait = 0\n",
    "        n1 = 0\n",
    "        for i in range(n):\n",
    "            #cluster 0\n",
    "            if assignment[i] == 0:\n",
    "                n0 += 1\n",
    "                c0_erup += eruption[i]\n",
    "                c0_wait += waiting[i]\n",
    "\n",
    "            #cluster 1\n",
    "            elif assignment[i] == 1:\n",
    "                n1 += 1\n",
    "                c1_erup += eruption[i]\n",
    "                c1_wait += waiting[i]\n",
    "\n",
    "            else:\n",
    "                print(\"Error: nonbinary val in assignment\")\n",
    "\n",
    "        c0_erup = c0_erup/n0\n",
    "        c0_wait = c0_wait/n0\n",
    "        c1_erup = c1_erup/n1\n",
    "        c1_wait = c1_wait/n1\n",
    "       \n",
    "        last_assignment = assignment\n",
    "        \n",
    "        #reassign each point to its nearest cluster center:\n",
    "        for i in range(n):\n",
    "            \n",
    "            #find distances to cluster centers\n",
    "            c0_dist = math.sqrt( (c0_erup - eruption[i])**2 + (c0_wait - waiting[i])**2 )\n",
    "            c1_dist = math.sqrt( (c1_erup - eruption[i])**2 + (c1_wait - waiting[i])**2 )\n",
    "            \n",
    "            #assign to closest cluster\n",
    "            if c0_dist > c1_dist:\n",
    "                assignment[i] = 1\n",
    "                \n",
    "            elif c0_dist < c1_dist:\n",
    "                assignment[i] = 0\n",
    "            \n",
    "            #if the distances are equivalent, the assignment remains the same\n",
    "        \n",
    "        #terminate if there is no change:\n",
    "        TC = last_assignment == assignment\n",
    "        \n",
    "    return (assignment, iterations)\n",
    "\n",
    "#make a scatterplot color-coded by cluster\n",
    "km = k_means()\n",
    "clusters = km[0]\n",
    "iterations = km[1]\n",
    "colors = []\n",
    "for item in clusters:\n",
    "    if item == 1:\n",
    "        colors.append('r')\n",
    "    else:\n",
    "        colors.append('g')\n",
    "\n",
    "plt.scatter(eruption, waiting, color = colors)\n"
   ]
  },
  {
   "cell_type": "code",
   "execution_count": 78,
   "id": "c78e3a5c",
   "metadata": {},
   "outputs": [
    {
     "data": {
      "text/plain": [
       "[<matplotlib.lines.Line2D at 0x7faf8513dd30>]"
      ]
     },
     "execution_count": 78,
     "metadata": {},
     "output_type": "execute_result"
    },
    {
     "data": {
      "image/png": "[encoded data removed]",
      "text/plain": [
       "<Figure size 432x288 with 1 Axes>"
      ]
     },
     "metadata": {
      "needs_background": "light"
     },
     "output_type": "display_data"
    }
   ],
   "source": [
    "# Estimate mean and variance using MLE on labeled data points\n",
    "\n",
    "km = k_means()\n",
    "clusters = km[0]\n",
    "\n",
    "mu1 = mu1_sum(clusters)\n",
    "mu2 = mu2_sum(clusters)\n",
    "\n",
    "sig1 = sig1_sum(clusters, mu1, mu2)\n",
    "sig2 = sig2_sum(clusters, mu1, mu2)\n",
    "\n",
    "pi = pi_sum(clusters)\n",
    "\n",
    "# Do EM with these initial params:\n",
    "e_max = EM(mu1, mu2, sig1, sig2, pi)\n",
    "mu1s = e_max[0]\n",
    "mu2s = e_max[1]\n",
    "pis = e_max[2]\n",
    "iterations = e_max[3]\n",
    "\n",
    "it_list = np.array(range(iterations + 1))\n",
    "mu1s_erup = np.array([mu1s[i][0] for i in range(len(mu1s))])\n",
    "mu1s_wait = np.array([mu1s[i][1] for i in range(len(mu1s))])\n",
    "mu2s_erup = np.array([mu2s[i][0] for i in range(len(mu2s))])\n",
    "mu2s_wait = np.array([mu2s[i][1] for i in range(len(mu2s))])\n",
    "\n",
    "plt.scatter(eruption, waiting, s = 3)\n",
    "plt.scatter(mu1s_erup, mu1s_wait, c = \"r\")\n",
    "plt.plot(mu1s_erup, mu1s_wait, c = \"r\")\n",
    "plt.scatter(mu2s_erup, mu2s_wait, c = \"g\")\n",
    "plt.plot(mu2s_erup, mu2s_wait, c = \"g\")"
   ]
  },
  {
   "cell_type": "code",
   "execution_count": 79,
   "id": "8a7ed8d6",
   "metadata": {},
   "outputs": [
    {
     "name": "stdout",
     "output_type": "stream",
     "text": [
      "Avg # EM Iterations: 5.26\n"
     ]
    },
    {
     "data": {
      "image/png": "[encoded data removed]",
      "text/plain": [
       "<Figure size 432x288 with 1 Axes>"
      ]
     },
     "metadata": {
      "needs_background": "light"
     },
     "output_type": "display_data"
    }
   ],
   "source": [
    "def km_fifty():\n",
    "    \n",
    "    x=0\n",
    "    iterations = []\n",
    "    while x < 50:\n",
    "        \n",
    "        km = k_means()\n",
    "        clusters = km[0]\n",
    "\n",
    "        mu1 = mu1_sum(clusters)\n",
    "        mu2 = mu2_sum(clusters)\n",
    "\n",
    "        sig1 = sig1_sum(clusters, mu1, mu2)\n",
    "        sig2 = sig2_sum(clusters, mu1, mu2)\n",
    "\n",
    "        pi = pi_sum(clusters)\n",
    "        \n",
    "        x += 1\n",
    "        num = EM(mu1, mu2, sig1, sig2, pi)[-1]\n",
    "        iterations.append(num)\n",
    "    \n",
    "    return iterations\n",
    "\n",
    "dist = km_fifty()\n",
    "bins_list = [i for i in range(11)]\n",
    "plt.hist(dist, bins = bins_list)\n",
    "print(\"Avg # EM Iterations:\", sum(dist)/50)"
   ]
  }
 ],
 "metadata": {
  "kernelspec": {
   "display_name": "Python 3",
   "language": "python",
   "name": "python3"
  },
  "language_info": {
   "codemirror_mode": {
    "name": "ipython",
    "version": 3
   },
   "file_extension": ".py",
   "mimetype": "text/x-python",
   "name": "python",
   "nbconvert_exporter": "python",
   "pygments_lexer": "ipython3",
   "version": "3.8.8"
  }
 },
 "nbformat": 4,
 "nbformat_minor": 5
}
