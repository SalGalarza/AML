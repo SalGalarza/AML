{
 "cells": [
  {
   "cell_type": "code",
   "execution_count": 1,
   "metadata": {},
   "outputs": [],
   "source": [
    "# SVD of a rank deficient matrix\n",
    "\n",
    "import numpy as np"
   ]
  },
  {
   "cell_type": "code",
   "execution_count": 51,
   "metadata": {},
   "outputs": [
    {
     "data": {
      "text/plain": [
       "2"
      ]
     },
     "execution_count": 51,
     "metadata": {},
     "output_type": "execute_result"
    }
   ],
   "source": [
    "M = np.array([[1, 0, 3],\n",
    "              [3, 7, 2],\n",
    "              [2, -2, 8],\n",
    "              [0, -1, 1],\n",
    "              [5, 8, 7]])\n",
    "\n",
    "np.linalg.matrix_rank(M)"
   ]
  },
  {
   "cell_type": "code",
   "execution_count": 52,
   "metadata": {},
   "outputs": [
    {
     "name": "stdout",
     "output_type": "stream",
     "text": [
      "MT_M = \n",
      " [[ 39  57  60]\n",
      " [ 57 118  53]\n",
      " [ 60  53 127]]\n",
      "\n",
      "\n",
      "M_MT = \n",
      " [[ 10   9  26   3  26]\n",
      " [  9  62   8  -5  85]\n",
      " [ 26   8  72  10  50]\n",
      " [  3  -5  10   2  -1]\n",
      " [ 26  85  50  -1 138]]\n"
     ]
    }
   ],
   "source": [
    "# i. MT_M and M_MT\n",
    "\n",
    "MT_M = np.matmul(M.transpose(), M)\n",
    "print(\"MT_M = \\n\", MT_M)\n",
    "\n",
    "print(\"\\n\")\n",
    "\n",
    "M_MT = np.matmul(M, M.transpose())\n",
    "print(\"M_MT = \\n\", M_MT)"
   ]
  },
  {
   "cell_type": "code",
   "execution_count": 53,
   "metadata": {},
   "outputs": [
    {
     "name": "stdout",
     "output_type": "stream",
     "text": [
      "MT_M eigenvalues: \n",
      " [ 2.14670489e+02 -1.68753900e-14  6.93295108e+01]\n",
      "\n",
      "\n",
      "M_MT eigenvalues: \n",
      " [ 2.14670489e+02 -7.77156117e-15  6.93295108e+01  1.23965036e-14\n",
      " -7.51374228e-16]\n"
     ]
    }
   ],
   "source": [
    "# ii. Eigenvals\n",
    "\n",
    "eigen_MT_M = np.linalg.eig(MT_M)\n",
    "print(\"MT_M eigenvalues: \\n\", eigen_MT_M[0])\n",
    "\n",
    "print(\"\\n\")\n",
    "\n",
    "eigen_M_MT = np.linalg.eig(M_MT)\n",
    "print(\"M_MT eigenvalues: \\n\", eigen_M_MT[0])\n",
    "\n",
    "# the last two eigenvalues for M_MT are 0. Others are the same."
   ]
  },
  {
   "cell_type": "code",
   "execution_count": 54,
   "metadata": {},
   "outputs": [
    {
     "name": "stdout",
     "output_type": "stream",
     "text": [
      "MT_M eigenvectors: \n",
      " [[ 0.42615127  0.90453403 -0.01460404]\n",
      " [ 0.61500884 -0.30151134 -0.72859799]\n",
      " [ 0.66344497 -0.30151134  0.68478587]]\n",
      "\n",
      "\n",
      "M_MT eigenvectors: \n",
      " [[-0.16492942 -0.95539856  0.24497323 -0.05956233 -0.02427356]\n",
      " [-0.47164732 -0.03481209 -0.45330644  0.75120003 -0.04392963]\n",
      " [-0.33647055  0.27076072  0.82943965  0.32422341 -0.19816095]\n",
      " [-0.00330585  0.04409532  0.16974659  0.06197806  0.97262947]\n",
      " [-0.79820031  0.10366268 -0.13310656 -0.56849692  0.11047687]]\n"
     ]
    }
   ],
   "source": [
    "# iii. Eigenvectors\n",
    "\n",
    "print(\"MT_M eigenvectors: \\n\", eigen_MT_M[1])\n",
    "\n",
    "print(\"\\n\")\n",
    "\n",
    "print(\"M_MT eigenvectors: \\n\", eigen_M_MT[1])"
   ]
  },
  {
   "cell_type": "code",
   "execution_count": 63,
   "metadata": {},
   "outputs": [
    {
     "name": "stdout",
     "output_type": "stream",
     "text": [
      "[[-0.16492942 -0.24497323]\n",
      " [-0.47164732  0.45330644]\n",
      " [-0.33647055 -0.82943965]\n",
      " [-0.00330585 -0.16974659]\n",
      " [-0.79820031  0.13310656]]\n",
      "Diagonalized: \n",
      " [[1.46516378e+01 0.00000000e+00 0.00000000e+00]\n",
      " [0.00000000e+00 8.32643446e+00 0.00000000e+00]\n",
      " [0.00000000e+00 0.00000000e+00 3.41374091e-16]]\n"
     ]
    }
   ],
   "source": [
    "# iv. SVD\n",
    "\n",
    "U, S, V = np.linalg.svd(M)\n",
    "\n",
    "print(U[:,:2])\n",
    "\n",
    "print(\"Diagonalized: \\n\", np.diag(S))"
   ]
  },
  {
   "cell_type": "code",
   "execution_count": 68,
   "metadata": {},
   "outputs": [
    {
     "name": "stdout",
     "output_type": "stream",
     "text": [
      "[[1.02978864 1.48616035 1.60320558]\n",
      " [2.94487812 4.24996055 4.58467382]\n",
      " [2.10085952 3.031898   3.27068057]\n",
      " [0.02064112 0.02978864 0.0321347 ]\n",
      " [4.9838143  7.19249261 7.75895028]] \n",
      "\n",
      " [[ 1  0  3]\n",
      " [ 3  7  2]\n",
      " [ 2 -2  8]\n",
      " [ 0 -1  1]\n",
      " [ 5  8  7]]\n"
     ]
    }
   ],
   "source": [
    "# v. 1-D approximation\n",
    "\n",
    "\n",
    "Mhat = U[:,:1].dot(np.diag(S[:1]).dot(V[:1,:]))\n",
    "\n",
    "print(Mhat, \"\\n\\n\", M)"
   ]
  }
 ],
 "metadata": {
  "kernelspec": {
   "display_name": "Python 3",
   "language": "python",
   "name": "python3"
  },
  "language_info": {
   "codemirror_mode": {
    "name": "ipython",
    "version": 3
   },
   "file_extension": ".py",
   "mimetype": "text/x-python",
   "name": "python",
   "nbconvert_exporter": "python",
   "pygments_lexer": "ipython3",
   "version": "3.7.3"
  }
 },
 "nbformat": 4,
 "nbformat_minor": 5
}
